{
 "cells": [
  {
   "cell_type": "code",
   "execution_count": 11,
   "metadata": {},
   "outputs": [],
   "source": [
    "import ROOT\n",
    "import uproot, hist"
   ]
  },
  {
   "cell_type": "markdown",
   "metadata": {},
   "source": [
    "First, import ROOT, check it works"
   ]
  },
  {
   "cell_type": "code",
   "execution_count": 12,
   "metadata": {},
   "outputs": [
    {
     "name": "stdout",
     "output_type": "stream",
     "text": [
      "9\n"
     ]
    }
   ],
   "source": [
    "x = 5\n",
    "y=x+4\n",
    "print(y)"
   ]
  },
  {
   "cell_type": "code",
   "execution_count": 13,
   "metadata": {},
   "outputs": [
    {
     "data": {
      "text/plain": [
       "['g_xsec;1']"
      ]
     },
     "execution_count": 13,
     "metadata": {},
     "output_type": "execute_result"
    }
   ],
   "source": [
    "file = uproot.open('kdar_analysis/kdar_emiss_hist.root')\n",
    "file.keys()"
   ]
  },
  {
   "cell_type": "code",
   "execution_count": 19,
   "metadata": {},
   "outputs": [],
   "source": [
    "h1 = file[\"g_xsec\"].to_hist()"
   ]
  },
  {
   "cell_type": "code",
   "execution_count": null,
   "metadata": {},
   "outputs": [
    {
     "data": {
      "text/plain": [
       "[StairsArtists(stairs=<matplotlib.patches.StepPatch object at 0x7f30dc723d70>, errorbar=<ErrorbarContainer object of 3 artists>, legend_artist=<ErrorbarContainer object of 3 artists>)]"
      ]
     },
     "execution_count": 21,
     "metadata": {},
     "output_type": "execute_result"
    },
    {
     "data": {
      "image/png": "[encoded data removed]",
      "text/plain": [
       "<Figure size 640x480 with 1 Axes>"
      ]
     },
     "metadata": {},
     "output_type": "display_data"
    }
   ],
   "source": [
    "h1.plot()"
   ]
  },
  {
   "cell_type": "code",
   "execution_count": null,
   "metadata": {},
   "outputs": [
    {
     "data": {
      "text/plain": [
       "['Mode',\n",
       " 'GENIEResCode',\n",
       " 'cc',\n",
       " 'PDGnu',\n",
       " 'Enu_true',\n",
       " 'tgt',\n",
       " 'tgta',\n",
       " 'tgtz',\n",
       " 'PDGLep',\n",
       " 'ELep',\n",
       " 'CosLep',\n",
       " 'Q2',\n",
       " 'q0',\n",
       " 'q3',\n",
       " 'Enu_QE',\n",
       " 'Q2_QE',\n",
       " 'W_nuc_rest',\n",
       " 'W',\n",
       " 'W_genie',\n",
       " 'x',\n",
       " 'y',\n",
       " 'Erecoil_minerva',\n",
       " 'Erecoil_charged',\n",
       " 'EavAlt',\n",
       " 'Emiss',\n",
       " 'pmiss',\n",
       " 'Emiss_preFSI',\n",
       " 'pmiss_preFSI',\n",
       " 'CosThetaAdler',\n",
       " 'PhiAdler',\n",
       " 'dalphat',\n",
       " 'dpt',\n",
       " 'dphit',\n",
       " 'pnreco_C',\n",
       " 'nfsp',\n",
       " 'px',\n",
       " 'py',\n",
       " 'pz',\n",
       " 'E',\n",
       " 'pdg',\n",
       " 'pdg_rank',\n",
       " 'ninitp',\n",
       " 'px_init',\n",
       " 'py_init',\n",
       " 'pz_init',\n",
       " 'E_init',\n",
       " 'pdg_init',\n",
       " 'nvertp',\n",
       " 'px_vert',\n",
       " 'py_vert',\n",
       " 'pz_vert',\n",
       " 'E_vert',\n",
       " 'pdg_vert',\n",
       " 'Weight',\n",
       " 'InputWeight',\n",
       " 'RWWeight',\n",
       " 'fScaleFactor',\n",
       " 'CustomWeight',\n",
       " 'CustomWeightArray',\n",
       " 'flagCCINC',\n",
       " 'flagNCINC',\n",
       " 'flagCCQE',\n",
       " 'flagCC0pi',\n",
       " 'flagCCQELike',\n",
       " 'flagNCEL',\n",
       " 'flagNC0pi',\n",
       " 'flagCCcoh',\n",
       " 'flagNCcoh',\n",
       " 'flagCC1pip',\n",
       " 'flagNC1pip',\n",
       " 'flagCC1pim',\n",
       " 'flagNC1pim',\n",
       " 'flagCC1pi0',\n",
       " 'flagNC1pi0',\n",
       " 'flagCC0piMINERvA',\n",
       " 'flagCC0Pi_T2K_AnaI',\n",
       " 'flagCC0Pi_T2K_AnaII']"
      ]
     },
     "execution_count": 25,
     "metadata": {},
     "output_type": "execute_result"
    }
   ],
   "source": [
    "nuisfile = uproot.open('neutout/nuisflat_neut_5.4.0_JSPS_C.root')\n",
    "tree = nuisfile[\"FlatTree_VARS\"]\n",
    "#tree.keys()\n"
   ]
  },
  {
   "cell_type": "code",
   "execution_count": null,
   "metadata": {},
   "outputs": [],
   "source": []
  }
 ],
 "metadata": {
  "kernelspec": {
   "display_name": "testenv",
   "language": "python",
   "name": "python3"
  },
  "language_info": {
   "codemirror_mode": {
    "name": "ipython",
    "version": 3
   },
   "file_extension": ".py",
   "mimetype": "text/x-python",
   "name": "python",
   "nbconvert_exporter": "python",
   "pygments_lexer": "ipython3",
   "version": "3.12.10"
  }
 },
 "nbformat": 4,
 "nbformat_minor": 2
}
